{
 "cells": [
  {
   "cell_type": "code",
   "execution_count": 51,
   "metadata": {},
   "outputs": [],
   "source": [
    "import numpy as np\n",
    "import pandas as pd\n",
    "import os \n",
    "import matplotlib.pyplot as plt\n",
    "from sklearn.datasets import fetch_openml\n",
    "import matplotlib.cm as cm\n",
    "from sklearn.model_selection import train_test_split"
   ]
  },
  {
   "cell_type": "code",
   "execution_count": 44,
   "metadata": {},
   "outputs": [],
   "source": [
    "X_raw , y_raw = fetch_openml('mnist_784', version=1, return_X_y=True)"
   ]
  },
  {
   "cell_type": "code",
   "execution_count": 42,
   "metadata": {},
   "outputs": [
    {
     "name": "stdout",
     "output_type": "stream",
     "text": [
      "(70000, 784)\n",
      "(70000,)\n"
     ]
    }
   ],
   "source": [
    "print(X_raw.shape)\n",
    "print(y_raw.shape)"
   ]
  },
  {
   "cell_type": "code",
   "execution_count": 45,
   "metadata": {},
   "outputs": [],
   "source": [
    "#Dataframes converted into numpy arrays\n",
    "X_raw_np = X_raw.to_numpy()\n",
    "y_raw_np = y_raw.to_numpy()"
   ]
  },
  {
   "attachments": {},
   "cell_type": "markdown",
   "metadata": {},
   "source": [
    "Exploring the data:"
   ]
  },
  {
   "cell_type": "code",
   "execution_count": 46,
   "metadata": {},
   "outputs": [
    {
     "name": "stdout",
     "output_type": "stream",
     "text": [
      "[[  0.   0.   0.   0.   0.   0.   0.   0.   0.   0.   0.   0.   0.   0.   0.   0.   0.   0.   0.   0.   0.   0.   0.   0.   0.   0.   0.   0.]\n",
      " [  0.   0.   0.   0.   0.   0.   0.   0.   0.   0.   0.   0.   0.   0.   0.   0.   0.   0.   0.   0.   0.   0.   0.   0.   0.   0.   0.   0.]\n",
      " [  0.   0.   0.   0.   0.   0.   0.   0.   0.   0.   0.   0.   0.   0.   0.   0.   0.   0.   0.   0.   0.   0.   0.   0.   0.   0.   0.   0.]\n",
      " [  0.   0.   0.   0.   0.   0.   0.   0.   0.   0.   0.   0.   0.   0.   0.   0.   0.   0.   0.   0.   0.   0.   0.   0.   0.   0.   0.   0.]\n",
      " [  0.   0.   0.   0.   0.   0.   0.   0.   0.   0.   0.   0.   0.   0.   0.   0.   0.   0.   0.   0.   0.   0.   0.   0.   0.   0.   0.   0.]\n",
      " [  0.   0.   0.   0.   0.   0.   0.   0.   0.   0.   0.   0.   3.  18.  18.  18. 126. 136. 175.  26. 166. 255. 247. 127.   0.   0.   0.   0.]\n",
      " [  0.   0.   0.   0.   0.   0.   0.   0.  30.  36.  94. 154. 170. 253. 253. 253. 253. 253. 225. 172. 253. 242. 195.  64.   0.   0.   0.   0.]\n",
      " [  0.   0.   0.   0.   0.   0.   0.  49. 238. 253. 253. 253. 253. 253. 253. 253. 253. 251.  93.  82.  82.  56.  39.   0.   0.   0.   0.   0.]\n",
      " [  0.   0.   0.   0.   0.   0.   0.  18. 219. 253. 253. 253. 253. 253. 198. 182. 247. 241.   0.   0.   0.   0.   0.   0.   0.   0.   0.   0.]\n",
      " [  0.   0.   0.   0.   0.   0.   0.   0.  80. 156. 107. 253. 253. 205.  11.   0.  43. 154.   0.   0.   0.   0.   0.   0.   0.   0.   0.   0.]\n",
      " [  0.   0.   0.   0.   0.   0.   0.   0.   0.  14.   1. 154. 253.  90.   0.   0.   0.   0.   0.   0.   0.   0.   0.   0.   0.   0.   0.   0.]\n",
      " [  0.   0.   0.   0.   0.   0.   0.   0.   0.   0.   0. 139. 253. 190.   2.   0.   0.   0.   0.   0.   0.   0.   0.   0.   0.   0.   0.   0.]\n",
      " [  0.   0.   0.   0.   0.   0.   0.   0.   0.   0.   0.  11. 190. 253.  70.   0.   0.   0.   0.   0.   0.   0.   0.   0.   0.   0.   0.   0.]\n",
      " [  0.   0.   0.   0.   0.   0.   0.   0.   0.   0.   0.   0.  35. 241. 225. 160. 108.   1.   0.   0.   0.   0.   0.   0.   0.   0.   0.   0.]\n",
      " [  0.   0.   0.   0.   0.   0.   0.   0.   0.   0.   0.   0.   0.  81. 240. 253. 253. 119.  25.   0.   0.   0.   0.   0.   0.   0.   0.   0.]\n",
      " [  0.   0.   0.   0.   0.   0.   0.   0.   0.   0.   0.   0.   0.   0.  45. 186. 253. 253. 150.  27.   0.   0.   0.   0.   0.   0.   0.   0.]\n",
      " [  0.   0.   0.   0.   0.   0.   0.   0.   0.   0.   0.   0.   0.   0.   0.  16.  93. 252. 253. 187.   0.   0.   0.   0.   0.   0.   0.   0.]\n",
      " [  0.   0.   0.   0.   0.   0.   0.   0.   0.   0.   0.   0.   0.   0.   0.   0.   0. 249. 253. 249.  64.   0.   0.   0.   0.   0.   0.   0.]\n",
      " [  0.   0.   0.   0.   0.   0.   0.   0.   0.   0.   0.   0.   0.   0.  46. 130. 183. 253. 253. 207.   2.   0.   0.   0.   0.   0.   0.   0.]\n",
      " [  0.   0.   0.   0.   0.   0.   0.   0.   0.   0.   0.   0.  39. 148. 229. 253. 253. 253. 250. 182.   0.   0.   0.   0.   0.   0.   0.   0.]\n",
      " [  0.   0.   0.   0.   0.   0.   0.   0.   0.   0.  24. 114. 221. 253. 253. 253. 253. 201.  78.   0.   0.   0.   0.   0.   0.   0.   0.   0.]\n",
      " [  0.   0.   0.   0.   0.   0.   0.   0.  23.  66. 213. 253. 253. 253. 253. 198.  81.   2.   0.   0.   0.   0.   0.   0.   0.   0.   0.   0.]\n",
      " [  0.   0.   0.   0.   0.   0.  18. 171. 219. 253. 253. 253. 253. 195.  80.   9.   0.   0.   0.   0.   0.   0.   0.   0.   0.   0.   0.   0.]\n",
      " [  0.   0.   0.   0.  55. 172. 226. 253. 253. 253. 253. 244. 133.  11.   0.   0.   0.   0.   0.   0.   0.   0.   0.   0.   0.   0.   0.   0.]\n",
      " [  0.   0.   0.   0. 136. 253. 253. 253. 212. 135. 132.  16.   0.   0.   0.   0.   0.   0.   0.   0.   0.   0.   0.   0.   0.   0.   0.   0.]\n",
      " [  0.   0.   0.   0.   0.   0.   0.   0.   0.   0.   0.   0.   0.   0.   0.   0.   0.   0.   0.   0.   0.   0.   0.   0.   0.   0.   0.   0.]\n",
      " [  0.   0.   0.   0.   0.   0.   0.   0.   0.   0.   0.   0.   0.   0.   0.   0.   0.   0.   0.   0.   0.   0.   0.   0.   0.   0.   0.   0.]\n",
      " [  0.   0.   0.   0.   0.   0.   0.   0.   0.   0.   0.   0.   0.   0.   0.   0.   0.   0.   0.   0.   0.   0.   0.   0.   0.   0.   0.   0.]]\n"
     ]
    }
   ],
   "source": [
    "#Thought it'd be cool to see the images as a matrix\n",
    "\n",
    "np.set_printoptions(linewidth=2000)\n",
    "print(X_raw_np[0].reshape(28, 28))"
   ]
  },
  {
   "cell_type": "code",
   "execution_count": 50,
   "metadata": {},
   "outputs": [
    {
     "name": "stdout",
     "output_type": "stream",
     "text": [
      "Label is 5\n"
     ]
    },
    {
     "data": {
      "image/png": "[encoded data removed]",
      "text/plain": [
       "<Figure size 640x480 with 1 Axes>"
      ]
     },
     "metadata": {},
     "output_type": "display_data"
    }
   ],
   "source": [
    "index=0\n",
    "\n",
    "plt.imshow(X_raw_np[index].reshape(28,28), cmap=cm.binary)\n",
    "print(\"Label is\", y_raw_np[index])"
   ]
  },
  {
   "attachments": {},
   "cell_type": "markdown",
   "metadata": {},
   "source": [
    "End of exploration."
   ]
  },
  {
   "cell_type": "code",
   "execution_count": 54,
   "metadata": {},
   "outputs": [],
   "source": [
    "#Data split into 60% training, 20% validation & 20% test\n",
    "\n",
    "X_train, X_temp, y_train, y_temp = train_test_split(X_raw_np, y_raw_np, test_size=0.4)\n",
    "X_val, X_test, y_val, y_test = train_test_split(X_temp, y_temp, test_size=0.5)"
   ]
  },
  {
   "cell_type": "code",
   "execution_count": 60,
   "metadata": {},
   "outputs": [
    {
     "name": "stdout",
     "output_type": "stream",
     "text": [
      "X_train = (42000, 784)\n",
      "y_train = (42000,)\n",
      "X_val = (14000, 784)\n",
      "y_val = (14000,)\n",
      "X_test = (14000, 784)\n",
      "y_test = (14000,)\n"
     ]
    }
   ],
   "source": [
    "#Checking dimensions\n",
    "\n",
    "print(\"X_train =\",X_train.shape)\n",
    "print(\"y_train =\",y_train.shape)\n",
    "print(\"X_val =\", X_val.shape)\n",
    "print(\"y_val =\", y_val.shape)\n",
    "print(\"X_test =\", X_test.shape)\n",
    "print(\"y_test =\", y_test.shape)"
   ]
  },
  {
   "cell_type": "code",
   "execution_count": 249,
   "metadata": {},
   "outputs": [],
   "source": [
    "#changing values to between 0-1 \n",
    "X_train, X_val, X_test = np.array(X_train/255), np.array(X_val/255), np.array(X_test/255)\n",
    "\n",
    "\n",
    "# Changing y data into binary matricies such that each row is a vector with 0s and 1 which indicates the label.\n",
    "# this is done so that a MSE error can be calulated while using sigmound activation function for the output layer.\n",
    "\n",
    "\n",
    "#y_train into binary matrix\n",
    "y_train_binary = np.zeros((42000,10))\n",
    "\n",
    "j = 0\n",
    "for i in range(0, len(y_train)):\n",
    "    \n",
    "\n",
    "\n",
    "    if int(y_train[i]) == 0:\n",
    "        \n",
    "        y_train_binary[j] +=  np.array([1, 0, 0, 0, 0, 0, 0, 0, 0, 0]) \n",
    "        j += 1\n",
    "\n",
    "    elif int(y_train[i]) == 1:\n",
    "        \n",
    "        y_train_binary[j] +=  np.array([0, 1, 0, 0, 0, 0, 0, 0, 0, 0]) \n",
    "        j += 1\n",
    "\n",
    "    elif int(y_train[i]) == 2:\n",
    "        \n",
    "        y_train_binary[j] +=  np.array([0, 0, 1, 0, 0, 0, 0, 0, 0, 0]) \n",
    "        j += 1\n",
    "    elif int(y_train[i]) == 3:\n",
    "        \n",
    "        y_train_binary[j] +=  np.array([0, 0, 0, 1, 0, 0, 0, 0, 0, 0]) \n",
    "        j += 1\n",
    "\n",
    "    elif int(y_train[i]) == 4:\n",
    "        \n",
    "        y_train_binary[j] +=  np.array([0, 0, 0, 0, 1, 0, 0, 0, 0, 0]) \n",
    "        j += 1\n",
    "\n",
    "    elif int(y_train[i]) == 5:\n",
    "        \n",
    "        y_train_binary[j] +=  np.array([0, 0, 0, 0, 0, 1, 0, 0, 0, 0]) \n",
    "        j += 1\n",
    "    elif int(y_train[i]) == 6:\n",
    "        \n",
    "        y_train_binary[j] +=  np.array([0, 0, 0, 0, 0, 0, 1, 0, 0, 0]) \n",
    "        j += 1\n",
    "\n",
    "    elif int(y_train[i]) == 7:\n",
    "        \n",
    "        y_train_binary[j] +=  np.array([0, 0, 0, 0, 0, 0, 0, 1, 0, 0]) \n",
    "        j += 1\n",
    "\n",
    "    elif int(y_train[i]) == 8:\n",
    "        \n",
    "        y_train_binary[j] +=  np.array([0, 0, 0, 0, 0, 0, 0, 0, 1, 0]) \n",
    "        j += 1\n",
    "\n",
    "    elif int(y_train[i]) == 9:\n",
    "        \n",
    "        y_train_binary[j] +=  np.array([0, 0, 0, 0, 0, 0, 0, 0, 0, 1]) \n",
    "        j += 1\n",
    "    \n",
    "\n",
    "\n",
    "        \n",
    "#y_val into binary matrix\n",
    "y_val_binary = np.zeros((14000,10))\n",
    "\n",
    "j = 0\n",
    "for i in range(0, len(y_val)):\n",
    "    \n",
    "\n",
    "\n",
    "    if int(y_val[i]) == 0:\n",
    "        \n",
    "        y_val_binary[j] +=  np.array([1, 0, 0, 0, 0, 0, 0, 0, 0, 0]) \n",
    "        j += 1\n",
    "\n",
    "    elif int(y_val[i]) == 1:\n",
    "        \n",
    "        y_val_binary[j] +=  np.array([0, 1, 0, 0, 0, 0, 0, 0, 0, 0]) \n",
    "        j += 1\n",
    "\n",
    "    elif int(y_val[i]) == 2:\n",
    "        \n",
    "        y_val_binary[j] +=  np.array([0, 0, 1, 0, 0, 0, 0, 0, 0, 0]) \n",
    "        j += 1\n",
    "    elif int(y_val[i]) == 3:\n",
    "        \n",
    "        y_val_binary[j] +=  np.array([0, 0, 0, 1, 0, 0, 0, 0, 0, 0]) \n",
    "        j += 1\n",
    "\n",
    "    elif int(y_val[i]) == 4:\n",
    "        \n",
    "        y_val_binary[j] +=  np.array([0, 0, 0, 0, 1, 0, 0, 0, 0, 0]) \n",
    "        j += 1\n",
    "\n",
    "    elif int(y_val[i]) == 5:\n",
    "        \n",
    "        y_val_binary[j] +=  np.array([0, 0, 0, 0, 0, 1, 0, 0, 0, 0]) \n",
    "        j += 1\n",
    "    elif int(y_val[i]) == 6:\n",
    "        \n",
    "        y_val_binary[j] +=  np.array([0, 0, 0, 0, 0, 0, 1, 0, 0, 0]) \n",
    "        j += 1\n",
    "\n",
    "    elif int(y_val[i]) == 7:\n",
    "        \n",
    "        y_val_binary[j] +=  np.array([0, 0, 0, 0, 0, 0, 0, 1, 0, 0]) \n",
    "        j += 1\n",
    "\n",
    "    elif int(y_val[i]) == 8:\n",
    "        \n",
    "        y_val_binary[j] +=  np.array([0, 0, 0, 0, 0, 0, 0, 0, 1, 0]) \n",
    "        j += 1\n",
    "\n",
    "    elif int(y_val[i]) == 9:\n",
    "        \n",
    "        y_val_binary[j] +=  np.array([0, 0, 0, 0, 0, 0, 0, 0, 0, 1]) \n",
    "        j += 1\n",
    "\n",
    "\n",
    "\n",
    "#y_test into binary matrix\n",
    "y_test_binary = np.zeros((14000,10))\n",
    "\n",
    "j = 0\n",
    "for i in range(0, len(y_test)):\n",
    "    \n",
    "\n",
    "\n",
    "    if int(y_test[i]) == 0:\n",
    "        \n",
    "        y_test_binary[j] +=  np.array([1, 0, 0, 0, 0, 0, 0, 0, 0, 0]) \n",
    "        j += 1\n",
    "\n",
    "    elif int(y_test[i]) == 1:\n",
    "        \n",
    "        y_test_binary[j] +=  np.array([0, 1, 0, 0, 0, 0, 0, 0, 0, 0]) \n",
    "        j += 1\n",
    "\n",
    "    elif int(y_test[i]) == 2:\n",
    "        \n",
    "        y_test_binary[j] +=  np.array([0, 0, 1, 0, 0, 0, 0, 0, 0, 0]) \n",
    "        j += 1\n",
    "    elif int(y_test[i]) == 3:\n",
    "        \n",
    "        y_test_binary[j] +=  np.array([0, 0, 0, 1, 0, 0, 0, 0, 0, 0]) \n",
    "        j += 1\n",
    "\n",
    "    elif int(y_test[i]) == 4:\n",
    "        \n",
    "        y_test_binary[j] +=  np.array([0, 0, 0, 0, 1, 0, 0, 0, 0, 0]) \n",
    "        j += 1\n",
    "\n",
    "    elif int(y_test[i]) == 5:\n",
    "        \n",
    "        y_test_binary[j] +=  np.array([0, 0, 0, 0, 0, 1, 0, 0, 0, 0]) \n",
    "        j += 1\n",
    "    elif int(y_test[i]) == 6:\n",
    "        \n",
    "        y_test_binary[j] +=  np.array([0, 0, 0, 0, 0, 0, 1, 0, 0, 0]) \n",
    "        j += 1\n",
    "\n",
    "    elif int(y_test[i]) == 7:\n",
    "        \n",
    "        y_test_binary[j] +=  np.array([0, 0, 0, 0, 0, 0, 0, 1, 0, 0]) \n",
    "        j += 1\n",
    "\n",
    "    elif int(y_test[i]) == 8:\n",
    "        \n",
    "        y_test_binary[j] +=  np.array([0, 0, 0, 0, 0, 0, 0, 0, 1, 0]) \n",
    "        j += 1\n",
    "\n",
    "    elif int(y_test[i]) == 9:\n",
    "        \n",
    "        y_test_binary[j] +=  np.array([0, 0, 0, 0, 0, 0, 0, 0, 0, 1]) \n",
    "        j += 1\n",
    "\n"
   ]
  },
  {
   "attachments": {},
   "cell_type": "markdown",
   "metadata": {},
   "source": [
    "#### **NN begins**\n",
    "\n",
    "##### In this implementation everything is manually coded.\n",
    "\n",
    "##### NN specification:\n",
    "\n",
    "L = 4, L1 has 784 neurons, 2 hidden layers have 16 neurons each and the output layer has 10, one for each digit.\n",
    "\n",
    "\n",
    "W2 has dimensions 16 x 784 <br>\n",
    "W3 has dimensions 16 x 16 <br>\n",
    "W4 has dimensions 10 x 16 <br>\n",
    "\n",
    "b2-3 has dimensions 16 x 1 <br>\n",
    "b4 has dimensions 10 x 1 <br>\n",
    "\n",
    "\n",
    "##### Steps:\n",
    "1. Manually generate all weight matricies and biases then initalize randomly \n",
    "\n",
    "***\n",
    "\n",
    "2. Split data into mini batches\n",
    "3. Feedforward a single training example from a given batch\n",
    "4. Calulate cost \n",
    "5. Backprop and calulate the gradient\n",
    "\n",
    "***\n",
    "\n",
    "6. Repeat steps 3-5 for all images in first batch\n",
    "\n",
    "***\n",
    "\n",
    "7. Average the gradient of the cost for all images in the first batch\n",
    "8. apply gradient decent step to update the weights\n",
    "\n",
    "***\n",
    "\n",
    "9. Repeat 3-8 for all minibatches\n",
    "\n",
    "***\n",
    "10. shuffle data\n",
    "11. Repeat 2-9 for a given number of 'epochs' \n",
    "\n"
   ]
  },
  {
   "cell_type": "code",
   "execution_count": 248,
   "metadata": {},
   "outputs": [],
   "source": [
    "#Creating and initializing matricies & biases randomly to values between -5 - 5\n",
    "\n",
    "W2 = np.random.uniform(low = -5,high= 5,size =(16, 784))\n",
    "W3 = np.random.uniform(low = -5,high= 5,size =(16, 16))\n",
    "W4 = np.random.uniform(low = -5,high= 5,size =(10, 16))\n",
    "\n",
    "b2 = np.random.uniform(low = -5,high= 5,size =(16, 1))\n",
    "b3 = np.random.uniform(low = -5,high= 5,size =(16, 1))\n",
    "b4 = np.random.uniform(low = -5,high= 5,size =(10, 1))\n"
   ]
  },
  {
   "cell_type": "code",
   "execution_count": 250,
   "metadata": {},
   "outputs": [],
   "source": [
    "# Function for shuffling and creating mini batches by turning X and y into tensors\n",
    "from sklearn.utils import shuffle\n",
    "\n",
    "\n",
    "def create_mini_batch(X_input, y_input, mini_batch_size):\n",
    "\n",
    "    X_shuffled, y_shuffled = shuffle(X_input, y_input)\n",
    "\n",
    "    reshaped_dim = int(len(X_shuffled)/mini_batch_size)\n",
    "\n",
    "    X_minibatches_tensor = X_shuffled.reshape(mini_batch_size, reshaped_dim, X_shuffled.shape[1] )\n",
    "\n",
    "    y_minibatches_tensor = y_shuffled.reshape(mini_batch_size, reshaped_dim, y_shuffled.shape[1])\n",
    "\n",
    "\n",
    "    return X_minibatches_tensor, y_minibatches_tensor\n",
    "\n",
    "\n",
    "# The above function outputs a X tensor such that each matrix being a mini batch with each row being an image\n",
    "# it outputs y a 3 tendor with the input being the y binary matricies. the matricies of the tensor are a given minibatch\n",
    "#  and the rows are the labels of each image. \n"
   ]
  },
  {
   "cell_type": "code",
   "execution_count": 251,
   "metadata": {},
   "outputs": [],
   "source": [
    "# Activation function\n",
    "def sigmoid(z):\n",
    "    return 1.0/(1.0 + np.exp(-z))"
   ]
  },
  {
   "cell_type": "code",
   "execution_count": null,
   "metadata": {},
   "outputs": [],
   "source": [
    "# Feedsforward one layer and outputs Z and activations of the next layer. \n",
    "def feedforward(a, W, b):\n",
    "\n",
    "\n",
    "    return Z_l, A_l "
   ]
  }
 ],
 "metadata": {
  "kernelspec": {
   "display_name": "base",
   "language": "python",
   "name": "python3"
  },
  "language_info": {
   "codemirror_mode": {
    "name": "ipython",
    "version": 3
   },
   "file_extension": ".py",
   "mimetype": "text/x-python",
   "name": "python",
   "nbconvert_exporter": "python",
   "pygments_lexer": "ipython3",
   "version": "3.9.15"
  },
  "orig_nbformat": 4,
  "vscode": {
   "interpreter": {
    "hash": "64e80eab9906f9954411e2ed9e2f50267578aafb496993537603541cb035db4f"
   }
  }
 },
 "nbformat": 4,
 "nbformat_minor": 2
}
