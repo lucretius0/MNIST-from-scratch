{
 "cells": [
  {
   "cell_type": "code",
   "execution_count": 27,
   "metadata": {},
   "outputs": [],
   "source": [
    "import numpy as np\n",
    "import pandas as pd\n",
    "import matplotlib.pyplot as plt\n",
    "from sklearn.datasets import fetch_openml\n",
    "import matplotlib.cm as cm\n",
    "from sklearn.model_selection import train_test_split\n",
    "from math import sqrt"
   ]
  },
  {
   "cell_type": "code",
   "execution_count": 7,
   "metadata": {},
   "outputs": [],
   "source": [
    "X_raw , y_raw = fetch_openml('mnist_784', version=1, return_X_y=True)"
   ]
  },
  {
   "cell_type": "code",
   "execution_count": 41,
   "metadata": {},
   "outputs": [
    {
     "name": "stdout",
     "output_type": "stream",
     "text": [
      "(70000, 784)\n",
      "(70000,)\n",
      "42000\n"
     ]
    }
   ],
   "source": [
    "print(X_raw.shape)\n",
    "print(y_raw.shape)\n"
   ]
  },
  {
   "cell_type": "code",
   "execution_count": 9,
   "metadata": {},
   "outputs": [],
   "source": [
    "#Dataframes converted into numpy arrays\n",
    "X_raw_np = X_raw.to_numpy()\n",
    "y_raw_np = y_raw.to_numpy()"
   ]
  },
  {
   "attachments": {},
   "cell_type": "markdown",
   "metadata": {},
   "source": [
    "Exploring the data:"
   ]
  },
  {
   "cell_type": "code",
   "execution_count": 10,
   "metadata": {},
   "outputs": [
    {
     "name": "stdout",
     "output_type": "stream",
     "text": [
      "[[  0.   0.   0.   0.   0.   0.   0.   0.   0.   0.   0.   0.   0.   0.   0.   0.   0.   0.   0.   0.   0.   0.   0.   0.   0.   0.   0.   0.]\n",
      " [  0.   0.   0.   0.   0.   0.   0.   0.   0.   0.   0.   0.   0.   0.   0.   0.   0.   0.   0.   0.   0.   0.   0.   0.   0.   0.   0.   0.]\n",
      " [  0.   0.   0.   0.   0.   0.   0.   0.   0.   0.   0.   0.   0.   0.   0.   0.   0.   0.   0.   0.   0.   0.   0.   0.   0.   0.   0.   0.]\n",
      " [  0.   0.   0.   0.   0.   0.   0.   0.   0.   0.   0.   0.   0.   0.   0.   0.   0.   0.   0.   0.   0.   0.   0.   0.   0.   0.   0.   0.]\n",
      " [  0.   0.   0.   0.   0.   0.   0.   0.   0.   0.   0.   0.   0.   0.   0.   0.   0.   0.   0.   0.   0.   0.   0.   0.   0.   0.   0.   0.]\n",
      " [  0.   0.   0.   0.   0.   0.   0.   0.   0.   0.   0.   0.   3.  18.  18.  18. 126. 136. 175.  26. 166. 255. 247. 127.   0.   0.   0.   0.]\n",
      " [  0.   0.   0.   0.   0.   0.   0.   0.  30.  36.  94. 154. 170. 253. 253. 253. 253. 253. 225. 172. 253. 242. 195.  64.   0.   0.   0.   0.]\n",
      " [  0.   0.   0.   0.   0.   0.   0.  49. 238. 253. 253. 253. 253. 253. 253. 253. 253. 251.  93.  82.  82.  56.  39.   0.   0.   0.   0.   0.]\n",
      " [  0.   0.   0.   0.   0.   0.   0.  18. 219. 253. 253. 253. 253. 253. 198. 182. 247. 241.   0.   0.   0.   0.   0.   0.   0.   0.   0.   0.]\n",
      " [  0.   0.   0.   0.   0.   0.   0.   0.  80. 156. 107. 253. 253. 205.  11.   0.  43. 154.   0.   0.   0.   0.   0.   0.   0.   0.   0.   0.]\n",
      " [  0.   0.   0.   0.   0.   0.   0.   0.   0.  14.   1. 154. 253.  90.   0.   0.   0.   0.   0.   0.   0.   0.   0.   0.   0.   0.   0.   0.]\n",
      " [  0.   0.   0.   0.   0.   0.   0.   0.   0.   0.   0. 139. 253. 190.   2.   0.   0.   0.   0.   0.   0.   0.   0.   0.   0.   0.   0.   0.]\n",
      " [  0.   0.   0.   0.   0.   0.   0.   0.   0.   0.   0.  11. 190. 253.  70.   0.   0.   0.   0.   0.   0.   0.   0.   0.   0.   0.   0.   0.]\n",
      " [  0.   0.   0.   0.   0.   0.   0.   0.   0.   0.   0.   0.  35. 241. 225. 160. 108.   1.   0.   0.   0.   0.   0.   0.   0.   0.   0.   0.]\n",
      " [  0.   0.   0.   0.   0.   0.   0.   0.   0.   0.   0.   0.   0.  81. 240. 253. 253. 119.  25.   0.   0.   0.   0.   0.   0.   0.   0.   0.]\n",
      " [  0.   0.   0.   0.   0.   0.   0.   0.   0.   0.   0.   0.   0.   0.  45. 186. 253. 253. 150.  27.   0.   0.   0.   0.   0.   0.   0.   0.]\n",
      " [  0.   0.   0.   0.   0.   0.   0.   0.   0.   0.   0.   0.   0.   0.   0.  16.  93. 252. 253. 187.   0.   0.   0.   0.   0.   0.   0.   0.]\n",
      " [  0.   0.   0.   0.   0.   0.   0.   0.   0.   0.   0.   0.   0.   0.   0.   0.   0. 249. 253. 249.  64.   0.   0.   0.   0.   0.   0.   0.]\n",
      " [  0.   0.   0.   0.   0.   0.   0.   0.   0.   0.   0.   0.   0.   0.  46. 130. 183. 253. 253. 207.   2.   0.   0.   0.   0.   0.   0.   0.]\n",
      " [  0.   0.   0.   0.   0.   0.   0.   0.   0.   0.   0.   0.  39. 148. 229. 253. 253. 253. 250. 182.   0.   0.   0.   0.   0.   0.   0.   0.]\n",
      " [  0.   0.   0.   0.   0.   0.   0.   0.   0.   0.  24. 114. 221. 253. 253. 253. 253. 201.  78.   0.   0.   0.   0.   0.   0.   0.   0.   0.]\n",
      " [  0.   0.   0.   0.   0.   0.   0.   0.  23.  66. 213. 253. 253. 253. 253. 198.  81.   2.   0.   0.   0.   0.   0.   0.   0.   0.   0.   0.]\n",
      " [  0.   0.   0.   0.   0.   0.  18. 171. 219. 253. 253. 253. 253. 195.  80.   9.   0.   0.   0.   0.   0.   0.   0.   0.   0.   0.   0.   0.]\n",
      " [  0.   0.   0.   0.  55. 172. 226. 253. 253. 253. 253. 244. 133.  11.   0.   0.   0.   0.   0.   0.   0.   0.   0.   0.   0.   0.   0.   0.]\n",
      " [  0.   0.   0.   0. 136. 253. 253. 253. 212. 135. 132.  16.   0.   0.   0.   0.   0.   0.   0.   0.   0.   0.   0.   0.   0.   0.   0.   0.]\n",
      " [  0.   0.   0.   0.   0.   0.   0.   0.   0.   0.   0.   0.   0.   0.   0.   0.   0.   0.   0.   0.   0.   0.   0.   0.   0.   0.   0.   0.]\n",
      " [  0.   0.   0.   0.   0.   0.   0.   0.   0.   0.   0.   0.   0.   0.   0.   0.   0.   0.   0.   0.   0.   0.   0.   0.   0.   0.   0.   0.]\n",
      " [  0.   0.   0.   0.   0.   0.   0.   0.   0.   0.   0.   0.   0.   0.   0.   0.   0.   0.   0.   0.   0.   0.   0.   0.   0.   0.   0.   0.]]\n"
     ]
    }
   ],
   "source": [
    "#Thought it'd be cool to see the images as a matrix\n",
    "\n",
    "np.set_printoptions(linewidth=2000)\n",
    "print(X_raw_np[0].reshape(28, 28))"
   ]
  },
  {
   "cell_type": "code",
   "execution_count": 11,
   "metadata": {},
   "outputs": [
    {
     "name": "stdout",
     "output_type": "stream",
     "text": [
      "Label is 5\n"
     ]
    },
    {
     "data": {
      "image/png": "[encoded data removed]",
      "text/plain": [
       "<Figure size 432x288 with 1 Axes>"
      ]
     },
     "metadata": {
      "needs_background": "light"
     },
     "output_type": "display_data"
    }
   ],
   "source": [
    "index=0\n",
    "\n",
    "plt.imshow(X_raw_np[index].reshape(28,28), cmap=cm.binary)\n",
    "print(\"Label is\", y_raw_np[index])"
   ]
  },
  {
   "attachments": {},
   "cell_type": "markdown",
   "metadata": {},
   "source": [
    "End of exploration."
   ]
  },
  {
   "cell_type": "code",
   "execution_count": 112,
   "metadata": {},
   "outputs": [],
   "source": [
    "#Data split into 60% training, 20% validation & 20% test\n",
    "\n",
    "X_train, X_temp, y_train, y_temp = train_test_split(X_raw_np, y_raw_np, test_size=0.4)\n",
    "X_val, X_test, y_val, y_test = train_test_split(X_temp, y_temp, test_size=0.5)"
   ]
  },
  {
   "cell_type": "code",
   "execution_count": 113,
   "metadata": {},
   "outputs": [
    {
     "name": "stdout",
     "output_type": "stream",
     "text": [
      "X_train = (42000, 784)\n",
      "y_train = (42000,)\n",
      "X_val = (14000, 784)\n",
      "y_val = (14000,)\n",
      "X_test = (14000, 784)\n",
      "y_test = (14000,)\n"
     ]
    }
   ],
   "source": [
    "#Checking dimensions\n",
    "\n",
    "print(\"X_train =\",X_train.shape)\n",
    "print(\"y_train =\",y_train.shape)\n",
    "print(\"X_val =\", X_val.shape)\n",
    "print(\"y_val =\", y_val.shape)\n",
    "print(\"X_test =\", X_test.shape)\n",
    "print(\"y_test =\", y_test.shape)"
   ]
  },
  {
   "cell_type": "code",
   "execution_count": 114,
   "metadata": {},
   "outputs": [],
   "source": [
    "#changing values to between 0-1 \n",
    "X_train, X_val, X_test = np.array(X_train/255), np.array(X_val/255), np.array(X_test/255)\n",
    "\n",
    "\n",
    "# Changing y data into binary matricies such that each row is a vector with 0s and 1 which indicates the label.\n",
    "# this is done so that a MSE error can be calulated while using sigmoid activation function for the output layer.\n",
    "\n",
    "\n",
    "#y_train into binary matrix\n",
    "y_train_binary = np.zeros((len(y_train),10))\n",
    "\n",
    "j = 0\n",
    "for i in range(0, len(y_train)):\n",
    "    \n",
    "\n",
    "\n",
    "    if int(y_train[i]) == 0:\n",
    "        \n",
    "        y_train_binary[j] +=  np.array([1, 0, 0, 0, 0, 0, 0, 0, 0, 0]) \n",
    "        j += 1\n",
    "\n",
    "    elif int(y_train[i]) == 1:\n",
    "        \n",
    "        y_train_binary[j] +=  np.array([0, 1, 0, 0, 0, 0, 0, 0, 0, 0]) \n",
    "        j += 1\n",
    "\n",
    "    elif int(y_train[i]) == 2:\n",
    "        \n",
    "        y_train_binary[j] +=  np.array([0, 0, 1, 0, 0, 0, 0, 0, 0, 0]) \n",
    "        j += 1\n",
    "    elif int(y_train[i]) == 3:\n",
    "        \n",
    "        y_train_binary[j] +=  np.array([0, 0, 0, 1, 0, 0, 0, 0, 0, 0]) \n",
    "        j += 1\n",
    "\n",
    "    elif int(y_train[i]) == 4:\n",
    "        \n",
    "        y_train_binary[j] +=  np.array([0, 0, 0, 0, 1, 0, 0, 0, 0, 0]) \n",
    "        j += 1\n",
    "\n",
    "    elif int(y_train[i]) == 5:\n",
    "        \n",
    "        y_train_binary[j] +=  np.array([0, 0, 0, 0, 0, 1, 0, 0, 0, 0]) \n",
    "        j += 1\n",
    "    elif int(y_train[i]) == 6:\n",
    "        \n",
    "        y_train_binary[j] +=  np.array([0, 0, 0, 0, 0, 0, 1, 0, 0, 0]) \n",
    "        j += 1\n",
    "\n",
    "    elif int(y_train[i]) == 7:\n",
    "        \n",
    "        y_train_binary[j] +=  np.array([0, 0, 0, 0, 0, 0, 0, 1, 0, 0]) \n",
    "        j += 1\n",
    "\n",
    "    elif int(y_train[i]) == 8:\n",
    "        \n",
    "        y_train_binary[j] +=  np.array([0, 0, 0, 0, 0, 0, 0, 0, 1, 0]) \n",
    "        j += 1\n",
    "\n",
    "    elif int(y_train[i]) == 9:\n",
    "        \n",
    "        y_train_binary[j] +=  np.array([0, 0, 0, 0, 0, 0, 0, 0, 0, 1]) \n",
    "        j += 1\n",
    "    \n",
    "\n",
    "\n",
    "        \n",
    "#y_val into binary matrix\n",
    "y_val_binary = np.zeros((len(y_val),10))\n",
    "\n",
    "j = 0\n",
    "for i in range(0, len(y_val)):\n",
    "    \n",
    "\n",
    "\n",
    "    if int(y_val[i]) == 0:\n",
    "        \n",
    "        y_val_binary[j] +=  np.array([1, 0, 0, 0, 0, 0, 0, 0, 0, 0]) \n",
    "        j += 1\n",
    "\n",
    "    elif int(y_val[i]) == 1:\n",
    "        \n",
    "        y_val_binary[j] +=  np.array([0, 1, 0, 0, 0, 0, 0, 0, 0, 0]) \n",
    "        j += 1\n",
    "\n",
    "    elif int(y_val[i]) == 2:\n",
    "        \n",
    "        y_val_binary[j] +=  np.array([0, 0, 1, 0, 0, 0, 0, 0, 0, 0]) \n",
    "        j += 1\n",
    "    elif int(y_val[i]) == 3:\n",
    "        \n",
    "        y_val_binary[j] +=  np.array([0, 0, 0, 1, 0, 0, 0, 0, 0, 0]) \n",
    "        j += 1\n",
    "\n",
    "    elif int(y_val[i]) == 4:\n",
    "        \n",
    "        y_val_binary[j] +=  np.array([0, 0, 0, 0, 1, 0, 0, 0, 0, 0]) \n",
    "        j += 1\n",
    "\n",
    "    elif int(y_val[i]) == 5:\n",
    "        \n",
    "        y_val_binary[j] +=  np.array([0, 0, 0, 0, 0, 1, 0, 0, 0, 0]) \n",
    "        j += 1\n",
    "    elif int(y_val[i]) == 6:\n",
    "        \n",
    "        y_val_binary[j] +=  np.array([0, 0, 0, 0, 0, 0, 1, 0, 0, 0]) \n",
    "        j += 1\n",
    "\n",
    "    elif int(y_val[i]) == 7:\n",
    "        \n",
    "        y_val_binary[j] +=  np.array([0, 0, 0, 0, 0, 0, 0, 1, 0, 0]) \n",
    "        j += 1\n",
    "\n",
    "    elif int(y_val[i]) == 8:\n",
    "        \n",
    "        y_val_binary[j] +=  np.array([0, 0, 0, 0, 0, 0, 0, 0, 1, 0]) \n",
    "        j += 1\n",
    "\n",
    "    elif int(y_val[i]) == 9:\n",
    "        \n",
    "        y_val_binary[j] +=  np.array([0, 0, 0, 0, 0, 0, 0, 0, 0, 1]) \n",
    "        j += 1\n",
    "\n",
    "\n",
    "\n",
    "#y_test into binary matrix\n",
    "y_test_binary = np.zeros((len(y_test),10))\n",
    "\n",
    "j = 0\n",
    "for i in range(0, len(y_test)):\n",
    "    \n",
    "\n",
    "\n",
    "    if int(y_test[i]) == 0:\n",
    "        \n",
    "        y_test_binary[j] +=  np.array([1, 0, 0, 0, 0, 0, 0, 0, 0, 0]) \n",
    "        j += 1\n",
    "\n",
    "    elif int(y_test[i]) == 1:\n",
    "        \n",
    "        y_test_binary[j] +=  np.array([0, 1, 0, 0, 0, 0, 0, 0, 0, 0]) \n",
    "        j += 1\n",
    "\n",
    "    elif int(y_test[i]) == 2:\n",
    "        \n",
    "        y_test_binary[j] +=  np.array([0, 0, 1, 0, 0, 0, 0, 0, 0, 0]) \n",
    "        j += 1\n",
    "    elif int(y_test[i]) == 3:\n",
    "        \n",
    "        y_test_binary[j] +=  np.array([0, 0, 0, 1, 0, 0, 0, 0, 0, 0]) \n",
    "        j += 1\n",
    "\n",
    "    elif int(y_test[i]) == 4:\n",
    "        \n",
    "        y_test_binary[j] +=  np.array([0, 0, 0, 0, 1, 0, 0, 0, 0, 0]) \n",
    "        j += 1\n",
    "\n",
    "    elif int(y_test[i]) == 5:\n",
    "        \n",
    "        y_test_binary[j] +=  np.array([0, 0, 0, 0, 0, 1, 0, 0, 0, 0]) \n",
    "        j += 1\n",
    "    elif int(y_test[i]) == 6:\n",
    "        \n",
    "        y_test_binary[j] +=  np.array([0, 0, 0, 0, 0, 0, 1, 0, 0, 0]) \n",
    "        j += 1\n",
    "\n",
    "    elif int(y_test[i]) == 7:\n",
    "        \n",
    "        y_test_binary[j] +=  np.array([0, 0, 0, 0, 0, 0, 0, 1, 0, 0]) \n",
    "        j += 1\n",
    "\n",
    "    elif int(y_test[i]) == 8:\n",
    "        \n",
    "        y_test_binary[j] +=  np.array([0, 0, 0, 0, 0, 0, 0, 0, 1, 0]) \n",
    "        j += 1\n",
    "\n",
    "    elif int(y_test[i]) == 9:\n",
    "        \n",
    "        y_test_binary[j] +=  np.array([0, 0, 0, 0, 0, 0, 0, 0, 0, 1]) \n",
    "        j += 1\n",
    "\n"
   ]
  },
  {
   "attachments": {},
   "cell_type": "markdown",
   "metadata": {},
   "source": [
    "#### **NN begins**\n",
    "\n",
    "##### In this implementation everything is manually coded.\n",
    "\n",
    "##### NN specification:\n",
    "\n",
    "L = 4, L1 has 784 neurons, 2 hidden layers have 16 neurons each and the output layer has 10, one for each digit.\n",
    "\n",
    "\n",
    "W2 has dimensions 16 x 784 <br>\n",
    "W3 has dimensions 16 x 16 <br>\n",
    "W4 has dimensions 10 x 16 <br>\n",
    "\n",
    "b2-3 has dimensions 16 x 1 <br>\n",
    "b4 has dimensions 10 x 1 <br>\n",
    "\n",
    "\n",
    "##### Procedure:\n",
    "1. Manually generate all weight matricies and biases then initalize randomly \n",
    "\n",
    "***\n",
    "\n",
    "2. Split data into mini batches\n",
    "3. Feedforward a single training example from a given batch\n",
    "4. Calulate cost \n",
    "5. Backprop and calulate the gradient\n",
    "\n",
    "***\n",
    "\n",
    "6. Repeat steps 3-5 for all images in first batch\n",
    "\n",
    "***\n",
    "\n",
    "7. Average the gradient of the cost for all images in the first batch\n",
    "8. apply gradient decent step to update the weights\n",
    "\n",
    "***\n",
    "\n",
    "9. Repeat 3-8 for all minibatches\n",
    "\n",
    "***\n",
    "10. shuffle data\n",
    "11. Repeat 2-9 for a given number of 'epochs' \n",
    "\n"
   ]
  },
  {
   "cell_type": "code",
   "execution_count": 115,
   "metadata": {},
   "outputs": [],
   "source": [
    "#Creating and initializing matricies & biases randomly to values between -5 - 5\n",
    "\n",
    "#W2 = np.random.uniform(low = -5,high= 5,size =(16, 784))\n",
    "#W3 = np.random.uniform(low = -5,high= 5,size =(16, 16))\n",
    "#W4 = np.random.uniform(low = -5,high= 5,size =(10, 16))\n",
    "\n",
    "#b2 = np.random.uniform(low = -5,high= 5,size =(16, 1))\n",
    "#b3 = np.random.uniform(low = -5,high= 5,size =(16, 1))\n",
    "#b4 = np.random.uniform(low = -5,high= 5,size =(10, 1))\n",
    "\n",
    "\n"
   ]
  },
  {
   "cell_type": "code",
   "execution_count": 116,
   "metadata": {},
   "outputs": [],
   "source": [
    "# Function for shuffling and creating mini batches by turning X and y into tensors\n",
    "from sklearn.utils import shuffle\n",
    "\n",
    "\n",
    "def create_mini_batch(X_input, y_input, mini_batch_size):\n",
    "\n",
    "    X_shuffled, y_shuffled = shuffle(X_input, y_input)\n",
    "\n",
    "    reshaped_dim = int(len(X_shuffled)/mini_batch_size)\n",
    "\n",
    "    X_minibatches_tensor = X_shuffled.reshape(reshaped_dim, mini_batch_size,  X_shuffled.shape[1] )\n",
    "\n",
    "    y_minibatches_tensor = y_shuffled.reshape(reshaped_dim, mini_batch_size,  y_shuffled.shape[1])\n",
    "\n",
    "\n",
    "    return X_minibatches_tensor, y_minibatches_tensor\n",
    "\n",
    "\n",
    "# The above function outputs a X tensor such that each matrix being a mini batch with each row being an image\n",
    "# it outputs y a 3 tendor with the input being the y binary matricies. the matricies of the tensor are a given minibatch\n",
    "#  and the rows are the labels of each image. \n"
   ]
  },
  {
   "cell_type": "code",
   "execution_count": 117,
   "metadata": {},
   "outputs": [],
   "source": [
    "# Activation function\n",
    "def sigmoid(z):\n",
    "    return 1.0/(1.0 + np.exp(-z))\n",
    "\n",
    "# Derivative of sigmoid \n",
    "def sigmoid_prime(z):\n",
    "    return sigmoid(z)*(1.0-sigmoid(z))"
   ]
  },
  {
   "cell_type": "code",
   "execution_count": 118,
   "metadata": {},
   "outputs": [],
   "source": [
    "# Feedsforward one layer and outputs Z and activations of the next layer. \n",
    "def feedforward(a, W, b):\n",
    "    Z_l = np.dot(W, a) + b\n",
    "    A_l = sigmoid(Z_l)\n",
    "\n",
    "    return Z_l, A_l \n",
    "\n",
    "#input data X needs to be fed in column vec form .reshape(784, 1)"
   ]
  },
  {
   "cell_type": "code",
   "execution_count": 119,
   "metadata": {},
   "outputs": [],
   "source": [
    "#Old MSE cost function\n",
    "\"\"\"\n",
    "def Cost_per_example(a_L, Y):\n",
    "    e2 = ((a_L - Y)**2)/2\n",
    "    cost = e2.sum()\n",
    "    return cost\n",
    "\"\"\"\n",
    "\n",
    "# cross entropy\n",
    "\n",
    "def Cost_per_example(a, y):\n",
    "    return np.sum(np.nan_to_num(-y*np.log(a)-(1-y)*np.log(1-a)))\n"
   ]
  },
  {
   "cell_type": "code",
   "execution_count": 120,
   "metadata": {},
   "outputs": [],
   "source": [
    "#Backpropagation\n",
    "\n",
    "def backprop(X, Y, W2, W3, W4, B2, B3, B4, batch_no, example_no):\n",
    "\n",
    "    \n",
    "    Z_2, a_2 = feedforward(X[batch_no][example_no].reshape(784,1), W2, B2)\n",
    "    Z_3, a_3 = feedforward(a_2, W3, B3)\n",
    "    Z_L, a_L = feedforward(a_3, W4, B4)\n",
    "    \n",
    "    #old MSE function below \n",
    "    #delta_L = np.multiply(((a_L - Y[batch_no][example_no].reshape(10,1))**2), sigmoid_prime(Z_L))\n",
    "\n",
    "    delta_L = a_L - Y[batch_no][example_no].reshape(10,1)\n",
    "    delta_3 = np.multiply(np.dot(W4.T, delta_L), sigmoid_prime(Z_3))\n",
    "    delta_2 = np.multiply(np.dot(W3.T, delta_3), sigmoid_prime(Z_2))\n",
    "\n",
    "    #creating derivatives of cost w.r.t weight matricies\n",
    "\n",
    "    d_W4 = np.zeros((10, 16))\n",
    "    for j in range(10):\n",
    "        for k in range(16):\n",
    "            d_W4[j][k] += delta_L[j]*a_3[k]\n",
    "\n",
    "    d_W3 = np.zeros((16, 16))\n",
    "    for j in range(16):\n",
    "        for k in range(16):\n",
    "            d_W3[j][k] += delta_3[j]*a_2[k]\n",
    "\n",
    "\n",
    "    d_W2 = np.zeros((16, 784))\n",
    "    for j in range(16):\n",
    "        for k in range(784):\n",
    "            d_W2[j][k] += delta_2[j]*X[batch_no][example_no].reshape(784,1)[k]\n",
    "\n",
    "\n",
    "    d_b4, d_b3, d_b2 = delta_L, delta_3, delta_2\n",
    "\n",
    "\n",
    "    return d_W2, d_W3, d_W4, d_b2, d_b3, d_b4"
   ]
  },
  {
   "cell_type": "code",
   "execution_count": 121,
   "metadata": {},
   "outputs": [],
   "source": [
    "#Function that updates the weights using gradient decent \n",
    "\n",
    "def update_weights(X, Y, W2, W3, W4, B2, B3, B4, batch_no, batch_size, learning_rate):\n",
    "\n",
    "    d_W2_av = np.zeros(W2.shape)\n",
    "    d_W3_av = np.zeros(W3.shape)\n",
    "    d_W4_av = np.zeros(W4.shape)\n",
    "\n",
    "    d_b2_av = np.zeros(B2.shape)\n",
    "    d_b3_av = np.zeros(B3.shape)\n",
    "    d_b4_av = np.zeros(B4.shape)\n",
    "\n",
    "\n",
    "    for example_no in range(batch_size):\n",
    "        d_W2_t, d_W3_t, d_W4_t, d_b2_t, d_b3_t, d_b4_t = backprop(X, Y, W2, W3, W4, B2, B3, B4, batch_no, example_no)\n",
    "\n",
    "        d_W2_av += d_W2_t\n",
    "        d_W3_av += d_W3_t\n",
    "        d_W4_av += d_W4_t\n",
    "\n",
    "        d_b2_av += d_b2_t\n",
    "        d_b3_av += d_b3_t\n",
    "        d_b4_av += d_b4_t\n",
    "\n",
    "    d_W2_av = d_W2_av/batch_size\n",
    "    d_W3_av = d_W3_av/batch_size\n",
    "    d_W4_av = d_W4_av/batch_size\n",
    "\n",
    "    d_b2_av = d_b2_av/batch_size\n",
    "    d_b3_av = d_b3_av/batch_size\n",
    "    d_b4_av = d_b4_av/batch_size\n",
    "\n",
    "\n",
    "    W2_updated = W2 - (learning_rate*d_W2_av)\n",
    "    W3_updated = W3 - (learning_rate*d_W3_av)\n",
    "    W4_updated = W4 - (learning_rate*d_W4_av)\n",
    "\n",
    "    b2_updated = B2 - (learning_rate*d_b2_av)\n",
    "    b3_updated = B3 - (learning_rate*d_b3_av)\n",
    "    b4_updated = B4 - (learning_rate*d_b4_av) \n",
    "\n",
    "    return W2_updated, W3_updated, W4_updated, b2_updated, b3_updated, b4_updated \n"
   ]
  },
  {
   "cell_type": "code",
   "execution_count": 122,
   "metadata": {},
   "outputs": [],
   "source": [
    "#run network for n epoches and output error \n",
    "\n",
    "def run(X_in, Y_in, epochs, learning_rate, mini_batch_size):\n",
    "\n",
    "\n",
    "    lowerw2, upperw2 = -(1.0 / sqrt(784)), (1.0 / sqrt(784 ))\n",
    "    lowerw3, upperw3 = -(1.0 / sqrt(16)), (1.0 / sqrt(16))\n",
    "    lowerw4, upperw4 = -(1.0 / sqrt(16)), (1.0 / sqrt(16))\n",
    "\n",
    "    lowerb2, upperb2 = -5, 5\n",
    "    lowerb3, upperb3 = -5, 5\n",
    "    lowerb4, upperb4 = -5, 5\n",
    "\n",
    "    W2 = np.random.uniform(low = lowerw2, high= upperw2, size =(16, 784))\n",
    "    W3 = np.random.uniform(low = lowerw3, high= upperw3, size =(16, 16))\n",
    "    W4 = np.random.uniform(low = lowerw4, high= upperw4, size =(10, 16))\n",
    "\n",
    "    b2 = np.random.uniform(low = lowerb2, high= upperb2, size =(16, 1))\n",
    "    b3 = np.random.uniform(low = lowerb3, high= upperb3, size =(16, 1))\n",
    "    b4 = np.random.uniform(low = lowerb4, high= upperb4, size =(10, 1))\n",
    "\n",
    "    cost_array = []\n",
    "\n",
    "    for ep in range(epochs):\n",
    "\n",
    "        #shuffle data & generate mini batches\n",
    "\n",
    "        X, Y = create_mini_batch(X_in, Y_in, mini_batch_size)\n",
    "        cost_1 = 0\n",
    "        correct = 0\n",
    "        \n",
    "\n",
    "        for batch_n in range(int(len(X_in)/mini_batch_size)):\n",
    "\n",
    "            #gradient decent step here\n",
    "\n",
    "            W2, W3, W4, b2, b3, b4 = update_weights(X, Y, W2, W3, W4, b2, b3, b4, batch_n, mini_batch_size, learning_rate)\n",
    "\n",
    "            for example_num in range(mini_batch_size):\n",
    "\n",
    "                Z_2, a_2 = feedforward(X[batch_n][example_num].reshape(784,1), W2, b2)\n",
    "                Z_3, a_3 = feedforward(a_2, W3, b3)\n",
    "                Z_L, a_L = feedforward(a_3, W4, b4)\n",
    "\n",
    "\n",
    "                cost_1 += Cost_per_example(a_L, Y[batch_n][example_num].reshape(10,1))/mini_batch_size\n",
    "                \n",
    "                if np.argmax(a_L) == np.argmax(Y[batch_n][example_num].reshape(10,1)):\n",
    "                    correct += 1\n",
    "                \n",
    "                \n",
    "                    \n",
    "        print(\"Epoch\",ep,\"Cost:\", cost_1, \"Training accuracy:\", correct,\"/\", X_in.shape[0])\n",
    "        cost_array.append(cost_1)\n",
    "\n",
    "    \n",
    "\n",
    "    return  W2, W3, W4, b2, b3, b4, cost_array\n",
    "\n"
   ]
  },
  {
   "cell_type": "code",
   "execution_count": 123,
   "metadata": {},
   "outputs": [],
   "source": [
    "def test(X, Y, W2, W3, W4, b2, b3, b4):\n",
    "\n",
    "    correct = 0\n",
    "\n",
    "    for example_num in range(X.shape[0]):\n",
    "\n",
    "        Z_2, a_2 = feedforward(X[example_num].reshape(784,1), W2, b2)\n",
    "        Z_3, a_3 = feedforward(a_2, W3, b3)\n",
    "        Z_L, a_L = feedforward(a_3, W4, b4)\n",
    "\n",
    "\n",
    "        if np.argmax(a_L) == np.argmax(Y[example_num].reshape(10, 1)):\n",
    "            correct += 1\n",
    "\n",
    "\n",
    "    print(\"Correct =\", correct, \"/\", X.shape[0])\n",
    "    print(\"Percentage correct = \", (correct/X.shape[0])*100)\n",
    "\n",
    "    "
   ]
  },
  {
   "attachments": {},
   "cell_type": "markdown",
   "metadata": {},
   "source": [
    "#### Experimentation:\n",
    "\n",
    "Changed data to 20% of total images as it takes a long time to run"
   ]
  },
  {
   "cell_type": "code",
   "execution_count": 89,
   "metadata": {},
   "outputs": [
    {
     "name": "stdout",
     "output_type": "stream",
     "text": [
      "Epoch 0 Cost: 503.88024955229645\n",
      "Epoch 0 Percentage:  1655 / 14000\n",
      "Epoch 1 Cost: 453.5050486492571\n",
      "Epoch 1 Percentage:  1876 / 14000\n",
      "Epoch 2 Cost: 452.8786148412077\n",
      "Epoch 2 Percentage:  1803 / 14000\n",
      "Epoch 3 Cost: 451.6686007222868\n",
      "Epoch 3 Percentage:  2150 / 14000\n",
      "Epoch 4 Cost: 448.9456373762324\n",
      "Epoch 4 Percentage:  2816 / 14000\n"
     ]
    }
   ],
   "source": [
    "W2_new, W3_new, W4_new, b2_new, b3_new, b4_new, cost_array = run(X_train, y_train_binary, 5, 0.1, 100)"
   ]
  },
  {
   "cell_type": "code",
   "execution_count": 91,
   "metadata": {},
   "outputs": [
    {
     "name": "stdout",
     "output_type": "stream",
     "text": [
      "Correct = 5537 / 28000\n",
      "Percentage correct =  19.775000000000002\n"
     ]
    }
   ],
   "source": [
    "test(X_test, y_test_binary, W2_new, W3_new, W4_new, b2_new, b3_new, b4_new)"
   ]
  },
  {
   "cell_type": "code",
   "execution_count": 92,
   "metadata": {},
   "outputs": [
    {
     "name": "stdout",
     "output_type": "stream",
     "text": [
      "Epoch 0 Cost: 4720.711717038095\n",
      "Epoch 0 Percentage:  1777 / 14000\n",
      "Epoch 1 Cost: 4517.228737730253\n",
      "Epoch 1 Percentage:  2109 / 14000\n",
      "Epoch 2 Cost: 4421.716182927301\n",
      "Epoch 2 Percentage:  3027 / 14000\n"
     ]
    }
   ],
   "source": [
    "W2_new, W3_new, W4_new, b2_new, b3_new, b4_new, cost_array = run(X_train, y_train_binary, 3, 0.025, 10)"
   ]
  },
  {
   "cell_type": "code",
   "execution_count": 93,
   "metadata": {},
   "outputs": [
    {
     "name": "stdout",
     "output_type": "stream",
     "text": [
      "Correct = 5712 / 28000\n",
      "Percentage correct =  20.4\n"
     ]
    }
   ],
   "source": [
    "test(X_test, y_test_binary, W2_new, W3_new, W4_new, b2_new, b3_new, b4_new)"
   ]
  },
  {
   "cell_type": "code",
   "execution_count": 95,
   "metadata": {},
   "outputs": [
    {
     "name": "stdout",
     "output_type": "stream",
     "text": [
      "trial 1\n",
      "Epoch 0 Cost: 452.88483969459867\n",
      "Epoch 0 Percentage:  1983 / 14000\n",
      "Epoch 1 Cost: 441.31987922810634\n",
      "Epoch 1 Percentage:  3040 / 14000\n",
      "Epoch 2 Cost: 389.5685888851722\n",
      "Epoch 2 Percentage:  4917 / 14000\n",
      "trial 2\n",
      "Epoch 0 Cost: 4611.47227926237\n",
      "Epoch 0 Percentage:  2211 / 14000\n",
      "Epoch 1 Cost: 4311.171218715453\n",
      "Epoch 1 Percentage:  3522 / 14000\n",
      "Epoch 2 Cost: 3739.2495496289994\n",
      "Epoch 2 Percentage:  5528 / 14000\n"
     ]
    }
   ],
   "source": [
    "print(\"trial 1\")\n",
    "W2_new, W3_new, W4_new, b2_new, b3_new, b4_new, cost_array = run(X_train, y_train_binary, 3, 0.5, 100)\n",
    "\n",
    "print(\"trial 2\")\n",
    "W2_new, W3_new, W4_new, b2_new, b3_new, b4_new, cost_array = run(X_train, y_train_binary, 3, 0.05, 10)\n"
   ]
  },
  {
   "cell_type": "code",
   "execution_count": 96,
   "metadata": {},
   "outputs": [
    {
     "name": "stdout",
     "output_type": "stream",
     "text": [
      "Epoch 0 Cost: 4373.008069090727\n",
      "Epoch 0 Percentage:  3166 / 14000\n",
      "Epoch 1 Cost: 3395.3363525502655\n",
      "Epoch 1 Percentage:  6540 / 14000\n",
      "Epoch 2 Cost: 2397.9124951390627\n",
      "Epoch 2 Percentage:  10030 / 14000\n"
     ]
    }
   ],
   "source": [
    "W2_new, W3_new, W4_new, b2_new, b3_new, b4_new, cost_array = run(X_train, y_train_binary, 3, 0.1, 10)"
   ]
  },
  {
   "cell_type": "code",
   "execution_count": 97,
   "metadata": {},
   "outputs": [
    {
     "name": "stdout",
     "output_type": "stream",
     "text": [
      "Epoch 0 Cost: 2243.2538174374567\n",
      "Epoch 0 Percentage:  9881 / 14000\n",
      "Epoch 1 Cost: 615.6892567512273\n",
      "Epoch 1 Percentage:  13389 / 14000\n",
      "Epoch 2 Cost: 468.10752825988936\n",
      "Epoch 2 Percentage:  13483 / 14000\n"
     ]
    }
   ],
   "source": [
    "W2_new, W3_new, W4_new, b2_new, b3_new, b4_new, cost_array = run(X_train, y_train_binary, 3, 0.5, 10)"
   ]
  },
  {
   "cell_type": "code",
   "execution_count": 98,
   "metadata": {},
   "outputs": [
    {
     "name": "stdout",
     "output_type": "stream",
     "text": [
      "Epoch 0 Cost: 1672.209003266521\n",
      "Epoch 0 Percentage:  10993 / 14000\n",
      "Epoch 1 Cost: 559.5427448488434\n",
      "Epoch 1 Percentage:  13299 / 14000\n",
      "Epoch 2 Cost: 518.8300304747571\n",
      "Epoch 2 Percentage:  13341 / 14000\n"
     ]
    }
   ],
   "source": [
    "W2_new, W3_new, W4_new, b2_new, b3_new, b4_new, cost_array = run(X_train, y_train_binary, 3, 1, 10)"
   ]
  },
  {
   "cell_type": "code",
   "execution_count": 99,
   "metadata": {},
   "outputs": [
    {
     "name": "stdout",
     "output_type": "stream",
     "text": [
      "Epoch 0 Cost: 1731.3536069608533\n",
      "Epoch 0 Percentage:  11028 / 14000\n",
      "Epoch 1 Cost: 537.8881597949859\n",
      "Epoch 1 Percentage:  13384 / 14000\n",
      "Epoch 2 Cost: 453.8452969425871\n",
      "Epoch 2 Percentage:  13431 / 14000\n"
     ]
    }
   ],
   "source": [
    "W2_new, W3_new, W4_new, b2_new, b3_new, b4_new, cost_array = run(X_train, y_train_binary, 3, 0.7, 10)"
   ]
  },
  {
   "cell_type": "code",
   "execution_count": 104,
   "metadata": {},
   "outputs": [
    {
     "name": "stdout",
     "output_type": "stream",
     "text": [
      "Epoch 0 Cost: 2383.031146482604 Training accuracy: 9706 / 14000\n",
      "Epoch 1 Cost: 714.5884623342408 Training accuracy: 13233 / 14000\n",
      "Epoch 2 Cost: 457.5925506768615 Training accuracy: 13494 / 14000\n",
      "Epoch 3 Cost: 382.22987707300445 Training accuracy: 13565 / 14000\n",
      "Epoch 4 Cost: 349.19272392455787 Training accuracy: 13586 / 14000\n",
      "Epoch 5 Cost: 305.97340351460286 Training accuracy: 13650 / 14000\n",
      "Epoch 6 Cost: 283.1739477780453 Training accuracy: 13666 / 14000\n",
      "Epoch 7 Cost: 262.95575367285255 Training accuracy: 13704 / 14000\n",
      "Epoch 8 Cost: 249.69478781508093 Training accuracy: 13689 / 14000\n",
      "Epoch 9 Cost: 249.03153563042142 Training accuracy: 13698 / 14000\n",
      "Epoch 10 Cost: 229.55738821133286 Training accuracy: 13735 / 14000\n",
      "Epoch 11 Cost: 235.75709858294672 Training accuracy: 13722 / 14000\n",
      "Epoch 12 Cost: 221.03842128214188 Training accuracy: 13735 / 14000\n",
      "Epoch 13 Cost: 213.63347947344593 Training accuracy: 13739 / 14000\n",
      "Epoch 14 Cost: 201.63699070013848 Training accuracy: 13755 / 14000\n",
      "Epoch 15 Cost: 211.65294397234945 Training accuracy: 13736 / 14000\n",
      "Epoch 16 Cost: 189.41336087859278 Training accuracy: 13780 / 14000\n",
      "Epoch 17 Cost: 192.52770441673493 Training accuracy: 13773 / 14000\n",
      "Epoch 18 Cost: 196.0436015272254 Training accuracy: 13760 / 14000\n",
      "Epoch 19 Cost: 180.31260096551947 Training accuracy: 13788 / 14000\n"
     ]
    }
   ],
   "source": [
    "W2_new, W3_new, W4_new, b2_new, b3_new, b4_new, cost_array = run(X_train, y_train_binary, 20, 0.5, 10)"
   ]
  },
  {
   "cell_type": "code",
   "execution_count": 105,
   "metadata": {},
   "outputs": [
    {
     "name": "stdout",
     "output_type": "stream",
     "text": [
      "Correct = 25834 / 28000\n",
      "Percentage correct =  92.2642857142857\n"
     ]
    }
   ],
   "source": [
    "test(X_test, y_test_binary, W2_new, W3_new, W4_new, b2_new, b3_new, b4_new)"
   ]
  },
  {
   "attachments": {},
   "cell_type": "markdown",
   "metadata": {},
   "source": [
    "##### 92.25% accurary on test data when trained on 20% of the training data"
   ]
  },
  {
   "cell_type": "code",
   "execution_count": 111,
   "metadata": {},
   "outputs": [
    {
     "data": {
      "text/plain": [
       "[<matplotlib.lines.Line2D at 0x7fd42d61a200>]"
      ]
     },
     "execution_count": 111,
     "metadata": {},
     "output_type": "execute_result"
    },
    {
     "data": {
      "image/png": "[encoded data removed]",
      "text/plain": [
       "<Figure size 432x288 with 1 Axes>"
      ]
     },
     "metadata": {
      "needs_background": "light"
     },
     "output_type": "display_data"
    }
   ],
   "source": [
    "X = range(20)\n",
    "Y = [2383,714,457,382,349,305,283,262,249,249,229,235,221,213,201,211,189,192,196,180]\n",
    "\n",
    "plt.plot(X, Y)"
   ]
  },
  {
   "attachments": {},
   "cell_type": "markdown",
   "metadata": {},
   "source": [
    "#### Final run\n",
    "\n",
    "data changed back to 60% training and 20% test, validation data is not used. "
   ]
  },
  {
   "cell_type": "code",
   "execution_count": 124,
   "metadata": {},
   "outputs": [
    {
     "name": "stdout",
     "output_type": "stream",
     "text": [
      "Epoch 0 Cost: 4483.274540216967 Training accuracy: 34044 / 42000\n",
      "Epoch 1 Cost: 1407.7264416146181 Training accuracy: 40245 / 42000\n",
      "Epoch 2 Cost: 1139.355725718285 Training accuracy: 40564 / 42000\n",
      "Epoch 3 Cost: 1054.9949076909088 Training accuracy: 40660 / 42000\n",
      "Epoch 4 Cost: 1022.8664167105374 Training accuracy: 40690 / 42000\n",
      "Epoch 5 Cost: 975.1325211540442 Training accuracy: 40730 / 42000\n",
      "Epoch 6 Cost: 969.0300308873937 Training accuracy: 40732 / 42000\n",
      "Epoch 7 Cost: 957.0281317214826 Training accuracy: 40750 / 42000\n",
      "Epoch 8 Cost: 904.8357765204346 Training accuracy: 40817 / 42000\n",
      "Epoch 9 Cost: 890.7010350037003 Training accuracy: 40842 / 42000\n",
      "Epoch 10 Cost: 882.4316347305729 Training accuracy: 40861 / 42000\n",
      "Epoch 11 Cost: 867.6745629863731 Training accuracy: 40874 / 42000\n",
      "Epoch 12 Cost: 865.7280199976391 Training accuracy: 40866 / 42000\n",
      "Epoch 13 Cost: 864.0917845608375 Training accuracy: 40845 / 42000\n",
      "Epoch 14 Cost: 839.7070442537831 Training accuracy: 40903 / 42000\n",
      "Epoch 15 Cost: 819.5136032375152 Training accuracy: 40922 / 42000\n",
      "Epoch 16 Cost: 816.6303598621995 Training accuracy: 40887 / 42000\n",
      "Epoch 17 Cost: 799.8660827740115 Training accuracy: 40915 / 42000\n",
      "Epoch 18 Cost: 785.9320742438953 Training accuracy: 40954 / 42000\n",
      "Epoch 19 Cost: 792.455769186035 Training accuracy: 40923 / 42000\n"
     ]
    }
   ],
   "source": [
    "W2_final, W3_final, W4_final, b2_final, b3_final, b4_final, cost_array = run(X_train, y_train_binary, 20, 0.5, 10)"
   ]
  },
  {
   "cell_type": "code",
   "execution_count": 125,
   "metadata": {},
   "outputs": [
    {
     "data": {
      "text/plain": [
       "[<matplotlib.lines.Line2D at 0x7fd42d675fc0>]"
      ]
     },
     "execution_count": 125,
     "metadata": {},
     "output_type": "execute_result"
    },
    {
     "data": {
      "image/png": "[encoded data removed]",
      "text/plain": [
       "<Figure size 432x288 with 1 Axes>"
      ]
     },
     "metadata": {
      "needs_background": "light"
     },
     "output_type": "display_data"
    }
   ],
   "source": [
    "X = range(20)\n",
    "Y = cost_array\n",
    "plt.plot(X,Y)"
   ]
  },
  {
   "cell_type": "code",
   "execution_count": 126,
   "metadata": {},
   "outputs": [
    {
     "name": "stdout",
     "output_type": "stream",
     "text": [
      "Correct = 13122 / 14000\n",
      "Percentage correct =  93.72857142857143\n"
     ]
    }
   ],
   "source": [
    "test(X_test, y_test_binary, W2_final, W3_final, W4_final, b2_final, b3_final, b4_final)"
   ]
  },
  {
   "cell_type": "code",
   "execution_count": null,
   "metadata": {},
   "outputs": [],
   "source": []
  }
 ],
 "metadata": {
  "kernelspec": {
   "display_name": "py10",
   "language": "python",
   "name": "python3"
  },
  "language_info": {
   "codemirror_mode": {
    "name": "ipython",
    "version": 3
   },
   "file_extension": ".py",
   "mimetype": "text/x-python",
   "name": "python",
   "nbconvert_exporter": "python",
   "pygments_lexer": "ipython3",
   "version": "3.10.8"
  },
  "orig_nbformat": 4,
  "vscode": {
   "interpreter": {
    "hash": "88c140aa648b729834400c23088e4467824ff5305599de806f499a26b691529b"
   }
  }
 },
 "nbformat": 4,
 "nbformat_minor": 2
}
